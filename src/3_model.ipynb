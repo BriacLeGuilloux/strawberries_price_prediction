{
 "cells": [
  {
   "cell_type": "markdown",
   "metadata": {},
   "source": [
    "# Time Series Modeling for Strawberry Price Prediction\n",
    "\n",
    "This notebook implements various time series models for strawberry price prediction."
   ]
  },
  {
   "cell_type": "code",
   "execution_count": 1,
   "metadata": {},
   "outputs": [],
   "source": [
    "import pandas as pd\n",
    "import numpy as np\n",
    "import joblib\n",
    "\n",
    "from src.fct_feature_eng import *\n",
    "from src.fct_model import *\n",
    "from src.parameter import get_dict_params"
   ]
  },
  {
   "cell_type": "markdown",
   "metadata": {},
   "source": [
    "## 1. Load Processed Data"
   ]
  },
  {
   "cell_type": "code",
   "execution_count": 2,
   "metadata": {},
   "outputs": [
    {
     "name": "stdout",
     "output_type": "stream",
     "text": [
      "Data loaded successfully:\n",
      "Training set shape: (210,)\n",
      "Testing set shape: (47,)\n"
     ]
    }
   ],
   "source": [
    "# Load processed data\n",
    "train_data = pd.read_csv('data/processed/train_processed.csv')\n",
    "test_data = pd.read_csv('data/processed/test_processed.csv')\n",
    "\n",
    "# Convert dates\n",
    "train_data['start_date'] = pd.to_datetime(train_data['start_date'])\n",
    "test_data['start_date'] = pd.to_datetime(test_data['start_date'])\n",
    "\n",
    "# Create time series of the target\n",
    "train_ts = train_data.set_index('start_date')['price']\n",
    "test_ts = test_data.set_index('start_date')['price']\n",
    "\n",
    "# Check for missing values\n",
    "if train_ts.isnull().any() or test_ts.isnull().any():\n",
    "    raise ValueError(\"Missing values detected in processed data\")\n",
    "\n",
    "print(\"Data loaded successfully:\")\n",
    "print(f\"Training set shape: {train_ts.shape}\")\n",
    "print(f\"Testing set shape: {test_ts.shape}\")"
   ]
  },
  {
   "cell_type": "markdown",
   "metadata": {},
   "source": [
    "## 2. Train and Save Models"
   ]
  },
  {
   "cell_type": "code",
   "execution_count": 3,
   "metadata": {},
   "outputs": [
    {
     "name": "stdout",
     "output_type": "stream",
     "text": [
      "\n",
      "Training naive model:\n",
      "Completed training naive model\n",
      "\n",
      "Training arima model:\n"
     ]
    },
    {
     "name": "stderr",
     "output_type": "stream",
     "text": [
      "/home/briacleguillou/.var/app/com.visualstudio.code/cache/pypoetry/virtualenvs/strawberries-price-prediction-RFzSQChC-py3.12/lib/python3.12/site-packages/statsmodels/tsa/base/tsa_model.py:473: ValueWarning: A date index has been provided, but it has no associated frequency information and so will be ignored when e.g. forecasting.\n",
      "  self._init_dates(dates, freq)\n",
      "/home/briacleguillou/.var/app/com.visualstudio.code/cache/pypoetry/virtualenvs/strawberries-price-prediction-RFzSQChC-py3.12/lib/python3.12/site-packages/statsmodels/tsa/base/tsa_model.py:473: ValueWarning: A date index has been provided, but it has no associated frequency information and so will be ignored when e.g. forecasting.\n",
      "  self._init_dates(dates, freq)\n",
      "/home/briacleguillou/.var/app/com.visualstudio.code/cache/pypoetry/virtualenvs/strawberries-price-prediction-RFzSQChC-py3.12/lib/python3.12/site-packages/statsmodels/tsa/base/tsa_model.py:473: ValueWarning: A date index has been provided, but it has no associated frequency information and so will be ignored when e.g. forecasting.\n",
      "  self._init_dates(dates, freq)\n",
      "/home/briacleguillou/.var/app/com.visualstudio.code/cache/pypoetry/virtualenvs/strawberries-price-prediction-RFzSQChC-py3.12/lib/python3.12/site-packages/statsmodels/tsa/base/tsa_model.py:837: ValueWarning: No supported index is available. Prediction results will be given with an integer index beginning at `start`.\n",
      "  return get_prediction_index(\n",
      "/home/briacleguillou/.var/app/com.visualstudio.code/cache/pypoetry/virtualenvs/strawberries-price-prediction-RFzSQChC-py3.12/lib/python3.12/site-packages/statsmodels/tsa/base/tsa_model.py:837: FutureWarning: No supported index is available. In the next version, calling this method in a model without a supported index will result in an exception.\n",
      "  return get_prediction_index(\n"
     ]
    },
    {
     "name": "stdout",
     "output_type": "stream",
     "text": [
      "Completed training arima model\n",
      "\n",
      "Training xgboost model:\n",
      "Completed training xgboost model\n",
      "\n",
      "All models have been trained and saved.\n"
     ]
    }
   ],
   "source": [
    "# Load parameters\n",
    "dict_params = get_dict_params()\n",
    "model_types = dict_params['model_types']\n",
    "\n",
    "# Define model functions\n",
    "model_functions = {\n",
    "    'naive': lambda train, test: (naive_forecast(train, test), None),\n",
    "    'arima': fit_arima_model,\n",
    "    'xgboost': fit_xgboost_model\n",
    "}\n",
    "\n",
    "# Train and save models\n",
    "for model_type in model_types:\n",
    "    print(f\"\\nTraining {model_type} model:\")\n",
    "    fit_func = model_functions[model_type]\n",
    "    pred, model = fit_func(train_ts, test_ts)\n",
    "    save_model_and_predictions(model, pred, model_type)\n",
    "    print(f\"Completed training {model_type} model\")\n",
    "\n",
    "# Save test data for evaluation\n",
    "joblib.dump(test_ts, 'models/test_data.joblib')\n",
    "\n",
    "print(\"\\nAll models have been trained and saved.\")"
   ]
  }
 ],
 "metadata": {
  "kernelspec": {
   "display_name": "Python 3",
   "language": "python",
   "name": "python3"
  },
  "language_info": {
   "codemirror_mode": {
    "name": "ipython",
    "version": 3
   },
   "file_extension": ".py",
   "mimetype": "text/x-python",
   "name": "python",
   "nbconvert_exporter": "python",
   "pygments_lexer": "ipython3",
   "version": "3.8.0"
  }
 },
 "nbformat": 4,
 "nbformat_minor": 4
}
