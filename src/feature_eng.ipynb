{
 "cells": [
  {
   "cell_type": "markdown",
   "id": "c461d7f9",
   "metadata": {},
   "source": [
    "## 7. Key Findings and Next Steps\n",
    "\n",
    "1. Missing Values Pattern:\n",
    "   - [To be filled after analysis]\n",
    "\n",
    "2. Price Trends:\n",
    "   - [To be filled after analysis]\n",
    "\n",
    "3. Weather Correlations:\n",
    "   - [To be filled after analysis]\n",
    "\n",
    "4. Seasonal Effects:\n",
    "   - [To be filled after analysis]\n",
    "\n",
    "Next Steps:\n",
    "1. Handle missing values separately for train and test sets\n",
    "2. Feature engineering based on observed patterns\n",
    "3. Model selection considering the seasonal nature of the data"
   ]
  },
  {
   "cell_type": "code",
   "execution_count": 6,
   "id": "206ed981",
   "metadata": {},
   "outputs": [],
   "source": [
    "# Import libraries\n",
    "import pandas as pd\n",
    "import numpy as np\n",
    "import matplotlib.pyplot as plt\n",
    "import seaborn as sns\n",
    "\n",
    "%matplotlib inline\n",
    "from src.fct_eda import *\n",
    "from src.fct_feature_eng import *\n",
    "from src.parameter import get_dict_params"
   ]
  },
  {
   "cell_type": "code",
   "execution_count": 3,
   "id": "ae69baeb",
   "metadata": {},
   "outputs": [],
   "source": [
    "# Load data\n",
    "df = pd.read_csv('data/raw/senior_ds_test.csv')\n",
    "\n",
    "# Load of parameters\n",
    "dict_params = get_dict_params()\n",
    "weather_cols = dict_params['weather_cols']\n",
    "test_start_year = dict_params['test_start_year']"
   ]
  },
  {
   "cell_type": "code",
   "execution_count": 4,
   "id": "825b64b9",
   "metadata": {},
   "outputs": [],
   "source": [
    "# Correcting types date\n",
    "for col in [x for x in df.columns if 'date' in x]:\n",
    "    df[col] = pd.to_datetime(df[col])"
   ]
  },
  {
   "cell_type": "code",
   "execution_count": null,
   "id": "c2a9be6e",
   "metadata": {},
   "outputs": [],
   "source": [
    "# Split data\n",
    "train_df, test_df = split_train_test(df)\n",
    "\n",
    "print(\"Training set shape:\", train_df.shape)\n",
    "print(\"Testing set shape:\", test_df.shape)\n",
    "\n",
    "# Display date ranges\n",
    "print(\"\\nTraining data date range:\")\n",
    "print(f\"Start: {train_df['start_date'].min()}, End: {train_df['start_date'].max()}\")\n",
    "print(\"\\nTesting data date range:\")\n",
    "print(f\"Start: {test_df['start_date'].min()}, End: {test_df['start_date'].max()}\")"
   ]
  }
 ],
 "metadata": {
  "kernelspec": {
   "display_name": "strawberries-price-prediction-RFzSQChC-py3.12",
   "language": "python",
   "name": "python3"
  },
  "language_info": {
   "codemirror_mode": {
    "name": "ipython",
    "version": 3
   },
   "file_extension": ".py",
   "mimetype": "text/x-python",
   "name": "python",
   "nbconvert_exporter": "python",
   "pygments_lexer": "ipython3",
   "version": "3.12.11"
  }
 },
 "nbformat": 4,
 "nbformat_minor": 5
}
