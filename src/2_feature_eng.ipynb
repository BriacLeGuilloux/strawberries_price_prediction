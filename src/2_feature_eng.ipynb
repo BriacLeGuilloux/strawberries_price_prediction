{
 "cells": [
  {
   "cell_type": "markdown",
   "metadata": {},
   "source": [
    "# Feature Engineering for Strawberry Price Prediction\n",
    "\n",
    "This notebook demonstrates the feature engineering process for predicting strawberry prices."
   ]
  },
  {
   "cell_type": "code",
   "execution_count": null,
   "metadata": {},
   "outputs": [],
   "source": [
    "import pandas as pd\n",
    "import matplotlib.pyplot as plt\n",
    "\n",
    "%matplotlib inline\n",
    "from src.fct_eda import *\n",
    "from src.fct_feature_eng import *\n",
    "from src.parameter import get_dict_params"
   ]
  },
  {
   "cell_type": "markdown",
   "metadata": {},
   "source": [
    "## 1. Load and Split Data"
   ]
  },
  {
   "cell_type": "code",
   "execution_count": null,
   "metadata": {},
   "outputs": [],
   "source": [
    "# Load data\n",
    "data = pd.read_csv('data/raw/senior_ds_test.csv')\n",
    "\n",
    "# Load parameters\n",
    "dict_params = get_dict_params()\n",
    "weather_cols = dict_params['weather_cols']\n",
    "\n",
    "# Split data\n",
    "train_data, test_data = split_train_test(data)\n",
    "\n",
    "print(\"Training set shape:\", train_data.shape)\n",
    "print(\"Testing set shape:\", test_data.shape)"
   ]
  },
  {
   "cell_type": "markdown",
   "metadata": {},
   "source": [
    "## 2. Analyze Missing Values"
   ]
  },
  {
   "cell_type": "code",
   "execution_count": null,
   "metadata": {},
   "outputs": [],
   "source": [
    "# Display missing values before cleaning\n",
    "print(\"Missing values before cleaning:\")\n",
    "print(train_data[weather_cols].isnull().sum())\n",
    "\n",
    "# Clean data by removing rows with missing values\n",
    "train_clean = handle_missing_values(train_data)\n",
    "test_clean = handle_missing_values(test_data)\n",
    "\n",
    "print(\"\\nDataset shapes after cleaning:\")\n",
    "print(f\"Training set: {train_clean.shape} (removed {train_data.shape[0] - train_clean.shape[0]} rows)\")\n",
    "print(f\"Testing set: {test_clean.shape} (removed {test_data.shape[0] - test_clean.shape[0]} rows)\")"
   ]
  },
  {
   "cell_type": "markdown",
   "metadata": {},
   "source": [
    "## 3. Feature Engineering Process"
   ]
  },
  {
   "cell_type": "code",
   "execution_count": null,
   "metadata": {},
   "outputs": [],
   "source": [
    "# Process training data\n",
    "train_processed = preprocessing(train_data, is_training=True)\n",
    "\n",
    "# Process test data\n",
    "test_processed = preprocessing(test_data, is_training=False)"
   ]
  },
  {
   "cell_type": "code",
   "execution_count": null,
   "metadata": {},
   "outputs": [],
   "source": [
    "# Scale features\n",
    "train_scaled = scale_df(train_processed)\n",
    "test_scaled = scale_df(test_processed)"
   ]
  },
  {
   "cell_type": "code",
   "execution_count": null,
   "metadata": {},
   "outputs": [],
   "source": [
    "# Display date ranges\n",
    "print(\"\\nTraining data date range:\")\n",
    "print(f\"Start: {train_processed['start_date'].min()}, End: {train_processed['start_date'].max()}\")\n",
    "print(\"\\nTesting data date range:\")\n",
    "print(f\"Start: {test_processed['start_date'].min()}, End: {test_processed['start_date'].max()}\")"
   ]
  },
  {
   "cell_type": "markdown",
   "metadata": {},
   "source": [
    "## 4. Analyze Generated Features"
   ]
  },
  {
   "cell_type": "code",
   "execution_count": null,
   "metadata": {},
   "outputs": [],
   "source": [
    "# Display feature categories\n",
    "print(\"Temporal Features:\")\n",
    "temporal_cols = [col for col in train_processed.columns if any(x in col for x in ['year', 'month', 'week', 'season'])]\n",
    "print(temporal_cols)\n",
    "\n",
    "print(\"\\nWeather Features:\")\n",
    "weather_cols2 = [col for col in train_processed.columns if any(x in col for x in weather_cols)]\n",
    "print(weather_cols2)\n",
    "\n",
    "print(\"\\nPrice Features:\")\n",
    "price_cols = [col for col in train_processed.columns if 'price' in col]\n",
    "print(price_cols)"
   ]
  },
  {
   "cell_type": "markdown",
   "metadata": {},
   "source": [
    "## 5. Feature Importance Analysis"
   ]
  },
  {
   "cell_type": "code",
   "execution_count": null,
   "metadata": {},
   "outputs": [],
   "source": [
    "# Calculate correlations with price\n",
    "correlations = train_processed.select_dtypes(include='float').corr()['price'].sort_values(ascending=False)\n",
    "\n",
    "# Plot top 20 correlations\n",
    "plt.figure(figsize=(12, 6))\n",
    "correlations[1:21].plot(kind='bar')\n",
    "plt.title('Top 20 Feature Correlations with Price')\n",
    "plt.xticks(rotation=45, ha='right')\n",
    "plt.tight_layout()\n",
    "plt.show()"
   ]
  },
  {
   "cell_type": "markdown",
   "metadata": {},
   "source": [
    "## 6. Export Results"
   ]
  },
  {
   "cell_type": "code",
   "execution_count": null,
   "metadata": {},
   "outputs": [],
   "source": [
    "train_scaled.to_csv('data/processed/train_scaled.csv')\n",
    "train_processed.to_csv('data/processed/train_processed.csv')\n",
    "test_scaled.to_csv('data/processed/test_scaled.csv')\n",
    "test_processed.to_csv('data/processed/test_processed.csv')"
   ]
  },
  {
   "cell_type": "markdown",
   "metadata": {},
   "source": [
    "## 7. Key Findings and Next Steps\n",
    "\n",
    "1. Data Cleaning:\n",
    "   - Removed rows with missing values to ensure data quality\n",
    "   - Excluded summer period (weeks 24-49) due to lack of price data\n",
    "\n",
    "2. Temporal Patterns:\n",
    "   - Strong seasonal effects captured through cyclical encoding\n",
    "   - Weekly patterns important for short-term predictions\n",
    "\n",
    "3. Weather Impacts:\n",
    "   - Temperature and solar radiation show significant correlations\n",
    "   - Weather interactions provide additional insights\n",
    "\n",
    "4. Price Dynamics:\n",
    "   - Price momentum and volatility capture market behavior\n",
    "   - Relative price features help normalize across seasons\n",
    "\n",
    "5. Feature Importance:\n",
    "   - Seasonal indicators among top predictors\n",
    "   - Weather features show varying importance\n",
    "\n",
    "Next Steps:\n",
    "1. Feature selection based on correlation analysis\n",
    "2. Consider polynomial features for weather interactions\n",
    "3. Experiment with different lag windows\n",
    "4. Validate feature importance with model-based methods"
   ]
  }
 ],
 "metadata": {
  "kernelspec": {
   "display_name": "Python 3",
   "language": "python",
   "name": "python3"
  }
 },
 "nbformat": 4,
 "nbformat_minor": 2
}
