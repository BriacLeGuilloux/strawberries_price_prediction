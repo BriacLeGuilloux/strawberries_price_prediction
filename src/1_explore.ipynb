{
 "cells": [
  {
   "cell_type": "markdown",
   "metadata": {},
   "source": [
    "# Strawberry Price Prediction - Exploratory Data Analysis\n",
    "\n",
    "Objective : create a model that would predict the price of strawberries at a 2 weeks horizon, using past data to train the model and the 2022-2023 season data for testing.\n",
    "With an internet search, the price of strawberries depend of :\n",
    "\n",
    "* Supply: season, yield, weather, diseases\n",
    "* Demand: consumption\n",
    "* Others\n",
    "\n",
    "This notebook explores the strawberry price prediction dataset, focusing on:\n",
    "\n",
    "1. Data overview and missing values\n",
    "2. Price distribution and trends\n",
    "3. Weather features analysis\n",
    "4. Seasonal patterns\n",
    "\n",
    "SYNTHESE EDA :\n",
    "\n",
    "data per week, seasonal patern important, missing prices for summer\n",
    "\n",
    "the price has a gamma distribution"
   ]
  },
  {
   "cell_type": "code",
   "execution_count": null,
   "metadata": {},
   "outputs": [],
   "source": [
    "# Import libraries\n",
    "import pandas as pd\n",
    "import numpy as np\n",
    "import matplotlib.pyplot as plt\n",
    "import seaborn as sns\n",
    "\n",
    "%matplotlib inline\n",
    "from src.fct_eda import *\n",
    "from src.parameter import get_dict_params"
   ]
  },
  {
   "cell_type": "markdown",
   "metadata": {},
   "source": [
    "## 1. Load and Examine Data"
   ]
  },
  {
   "cell_type": "code",
   "execution_count": null,
   "metadata": {},
   "outputs": [],
   "source": [
    "# Load data\n",
    "data = pd.read_csv('data/raw/senior_ds_test.csv')\n",
    "\n",
    "# Display basic information\n",
    "print(\"Dataset Shape:\", data.shape)\n",
    "print(\"\\nColumns:\", data.columns.tolist())\n",
    "print(\"\\nData Types:\\n\", data.dtypes)\n",
    "print(\"\\nSample Data:\\n\", data.head())"
   ]
  },
  {
   "cell_type": "code",
   "execution_count": null,
   "metadata": {},
   "outputs": [],
   "source": [
    "# Load of parameters\n",
    "dict_params = get_dict_params()\n",
    "weather_cols = dict_params['weather_cols']\n",
    "test_start_year = dict_params['test_start_year']"
   ]
  },
  {
   "cell_type": "markdown",
   "metadata": {},
   "source": [
    "## Onthology\n",
    "\n",
    "Each row represents one week of observations, including weather conditions, solar radiation, and strawberry price ranges.\n",
    "\n",
    "| Column Name      | Description                                                                                       |\n",
    "| ---------------- | ------------------------------------------------------------------------------------------------- |\n",
    "| `year`           | The calendar year of the observation.                                                             |\n",
    "| `week`           | week number, corresponding to the weekly aggregation.                               |\n",
    "| `windspeed`      | Average wind speed during the week (km/h or m/s). |\n",
    "| `temp`           | Average air temperature during the week (°C).                                                     |\n",
    "| `cloudcover`     | Average cloud cover during the week (%).                                                          |\n",
    "| `precip`         | Total precipitation during the week (mm).                                                         |\n",
    "| `solarradiation` | Average solar radiation during the week (W/m²).                                                   |\n",
    "| `start_date`     | Start date of the week (YYYY-MM-DD).                                                              |\n",
    "| `end_date`       | End date of the week (YYYY-MM-DD).                                                                |\n",
    "| `category`       | Quality or classification category for the strawberries.                |\n",
    "| `unit`           | Pricing unit, e.g. \"Euros/kg\".                                                                    |\n",
    "| `price_min`      | Minimum observed price during the week.                                   |\n",
    "| `price_max`      | Maximum observed price during the week.                                   |\n",
    "| `price`          | Average price during the week.                          |\n",
    "\n",
    "## Database metadata\n",
    "\n",
    "This dataset combines weekly strawberry market prices with meteorological data for a specific region. It is aggregated data."
   ]
  },
  {
   "cell_type": "code",
   "execution_count": null,
   "metadata": {},
   "outputs": [],
   "source": [
    "# Correcting types date\n",
    "for col in [x for x in data.columns if 'date' in x]:\n",
    "    data[col] = pd.to_datetime(data[col])"
   ]
  },
  {
   "cell_type": "markdown",
   "metadata": {},
   "source": [
    "Missing value – This refers to the situation when specific measurement was not collected. The basic requirement here is that the missing value rate should not be greater than 10 percent for any given time period. In a case in which a single value is missing, it should be indicated by using a predefined value (for example, '9999') and not '0,' which could be a valid measurement.\n",
    "\n",
    "Measurement accuracy – The actual value of consumption or temperature should be accurately recorded. Inaccurate measurements will produce inaccurate forecasts. Typically, the measurement error should be lower than 1 percent relative to the true value.\n",
    "\n",
    "Time of measurement – It is required that the actual time stamp of the data collected will not deviate by more than 10 seconds relative to the true time of the actual measurement.\n",
    "\n",
    "Synchronization – When multiple data sources are being used (for example, consumption and temperature), we must ensure that there are no time synchronization issues between them. This means that the time difference between the collected time stamp from any two independent data sources should not exceed more than 10 seconds.\n",
    "\n",
    "Latency – As discussed earlier, in the section "Data Ingestion," we are dependent on a reliable data flow and ingestion process. To control that, we must ensure that we control the data latency. This is specified as the time difference between the time that the actual measurement was taken and the time at which it has been loaded."
   ]
  },
  {
   "cell_type": "markdown",
   "metadata": {},
   "source": [
    "## 2. Missing Values Analysis"
   ]
  },
  {
   "cell_type": "code",
   "execution_count": null,
   "metadata": {},
   "outputs": [],
   "source": [
    "# Check missing values\n",
    "print(\"Missing Values Count:\\n\")\n",
    "print(data.isnull().sum())\n",
    "\n",
    "# Plot missing values heatmap\n",
    "plot_missing_values(data)"
   ]
  },
  {
   "cell_type": "markdown",
   "metadata": {},
   "source": [
    "Obs : the missing data are not random. It seems that this dataframe comes from a merging of a weather database and a price database. I think the price was not present for some weeks."
   ]
  },
  {
   "cell_type": "code",
   "execution_count": null,
   "metadata": {},
   "outputs": [],
   "source": [
    "# Exploration of the missing data.\n",
    "data.iloc[255:260]"
   ]
  },
  {
   "cell_type": "code",
   "execution_count": null,
   "metadata": {},
   "outputs": [],
   "source": [
    "data_week_mv = data.loc[:,['week', 'category']].set_index('week').isna().groupby('week').mean()\n",
    "\n",
    "# Graphic\n",
    "sns.lineplot(data=data_week_mv, x='week', y='category', marker='o', color='tab:blue')\n",
    "plt.title('Proportion of Missing Values per Week for Category')\n",
    "plt.show()"
   ]
  },
  {
   "cell_type": "markdown",
   "metadata": {},
   "source": [
    "Obs : From the week 24 to 49, the prices are missing in the database."
   ]
  },
  {
   "cell_type": "code",
   "execution_count": null,
   "metadata": {},
   "outputs": [],
   "source": [
    "# Plot price distribution and time series\n",
    "plot_price_distribution(data)\n",
    "\n",
    "# Basic statistics\n",
    "print(\"\\nPrice Statistics (Training Set):\")\n",
    "print(data['price'].describe())"
   ]
  },
  {
   "cell_type": "markdown",
   "metadata": {},
   "source": [
    "Obs : the price distribution seems to be a gamma distribution, skewed to the left (low price)."
   ]
  },
  {
   "cell_type": "markdown",
   "metadata": {},
   "source": [
    "## 5. Weather Features Analysis"
   ]
  },
  {
   "cell_type": "code",
   "execution_count": null,
   "metadata": {},
   "outputs": [],
   "source": [
    "# Plot correlations\n",
    "plot_weather_correlations(data)\n",
    "\n",
    "# Weather features statistics\n",
    "print(\"\\nWeather Features Statistics (Training Set):\")\n",
    "print(data[weather_cols].describe())"
   ]
  },
  {
   "cell_type": "markdown",
   "metadata": {},
   "source": [
    "Obs : the solar radiation and temperature seem to be correlated the prices."
   ]
  },
  {
   "cell_type": "markdown",
   "metadata": {},
   "source": [
    "## 6. Seasonal Patterns"
   ]
  },
  {
   "cell_type": "code",
   "execution_count": null,
   "metadata": {},
   "outputs": [],
   "source": [
    "# Plot seasonal patterns\n",
    "plot_seasonal_patterns(data)\n",
    "\n",
    "# Additional seasonal analysis\n",
    "print(\"\\nAverage Price by Year:\")\n",
    "print(data.groupby('year')['price'].mean())"
   ]
  },
  {
   "cell_type": "markdown",
   "metadata": {},
   "source": [
    "Obs : At the end of the year, the price range is important, and the price is high. The prices seem to decrease until April."
   ]
  },
  {
   "cell_type": "code",
   "execution_count": null,
   "metadata": {},
   "outputs": [],
   "source": [
    "seasonal_analysis_weekly(data)"
   ]
  },
  {
   "cell_type": "markdown",
   "metadata": {},
   "source": [
    "Obs : We observe a high saisonality compare to the trend. The trend is not linear."
   ]
  }
 ],
 "metadata": {
  "kernelspec": {
   "display_name": "Python 3",
   "language": "python",
   "name": "python3"
  }
 },
 "nbformat": 4,
 "nbformat_minor": 2
}
