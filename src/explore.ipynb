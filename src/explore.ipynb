{
 "cells": [
  {
   "cell_type": "markdown",
   "metadata": {},
   "source": [
    "# Strawberry Price Prediction - Exploratory Data Analysis\n",
    "\n",
    "Objective : create a model that would predict the price of strawberries at a 2 weeks horizon, using past data to train the model and the 2022-2023 season data for testing."
   ]
  },
  {
   "cell_type": "markdown",
   "metadata": {},
   "source": [
    "With an internet search, the strawberries depend of :\n",
    "* Supply: season, yield, weather, diseases\n",
    "* Demand: consumption, events, competition\n",
    "* Production costs: inputs, labor, crop type\n",
    "* Logistics: transportation, storage, preservation\n",
    "* Policies and economics: taxes, subsidies, currency fluctuations"
   ]
  },
  {
   "cell_type": "markdown",
   "metadata": {},
   "source": [
    "This notebook explores the strawberry price prediction dataset, focusing on:\n",
    "1. Data overview and missing values\n",
    "2. Price distribution and trends\n",
    "3. Weather features analysis\n",
    "4. Seasonal patterns"
   ]
  },
  {
   "cell_type": "code",
   "execution_count": null,
   "metadata": {},
   "outputs": [
    {
     "ename": "SyntaxError",
     "evalue": "invalid syntax (959152598.py, line 7)",
     "output_type": "error",
     "traceback": [
      "  \u001b[36mCell\u001b[39m\u001b[36m \u001b[39m\u001b[32mIn[3]\u001b[39m\u001b[32m, line 7\u001b[39m\n\u001b[31m    \u001b[39m\u001b[31mfrom ./src/utils.py import plot_missing_values\u001b[39m\n          ^\n\u001b[31mSyntaxError\u001b[39m\u001b[31m:\u001b[39m invalid syntax\n"
     ]
    }
   ],
   "source": [
    "import pandas as pd\n",
    "import numpy as np\n",
    "import matplotlib.pyplot as plt\n",
    "import seaborn as sns\n",
    "\n",
    "%matplotlib inline\n",
    "from utils import plot_missing_values"
   ]
  },
  {
   "cell_type": "code",
   "execution_count": null,
   "metadata": {},
   "outputs": [],
   "source": []
  },
  {
   "cell_type": "markdown",
   "metadata": {},
   "source": [
    "## 1. Load and Examine Data"
   ]
  },
  {
   "cell_type": "code",
   "execution_count": 2,
   "metadata": {},
   "outputs": [
    {
     "name": "stdout",
     "output_type": "stream",
     "text": [
      "Dataset Shape: (521, 15)\n",
      "\n",
      "Columns: ['Unnamed: 0', 'year', 'week', 'windspeed', 'temp', 'cloudcover', 'precip', 'solarradiation', 'start_date', 'end_date', 'category', 'unit', 'price_min', 'price_max', 'price']\n",
      "\n",
      "Data Types:\n",
      " Unnamed: 0          int64\n",
      "year                int64\n",
      "week                int64\n",
      "windspeed         float64\n",
      "temp              float64\n",
      "cloudcover        float64\n",
      "precip            float64\n",
      "solarradiation    float64\n",
      "start_date         object\n",
      "end_date           object\n",
      "category           object\n",
      "unit               object\n",
      "price_min         float64\n",
      "price_max         float64\n",
      "price             float64\n",
      "dtype: object\n",
      "\n",
      "Sample Data:\n",
      "    Unnamed: 0  year  week  windspeed       temp  cloudcover    precip  \\\n",
      "0           1  2013    28  21.900000  26.100000   13.500000  0.013000   \n",
      "1           2  2013    29  24.185714  26.914286   10.242857  0.000000   \n",
      "2           3  2013    30  21.728571  27.871429   13.785714  0.000000   \n",
      "3           4  2013    31  22.971429  27.014286   18.900000  0.000000   \n",
      "4           5  2013    32  20.942857  27.485714   18.457143  0.032714   \n",
      "\n",
      "   solarradiation start_date end_date category unit  price_min  price_max  \\\n",
      "0      347.200000        NaN      NaN      NaN  NaN        NaN        NaN   \n",
      "1      343.414286        NaN      NaN      NaN  NaN        NaN        NaN   \n",
      "2      338.100000        NaN      NaN      NaN  NaN        NaN        NaN   \n",
      "3      325.757143        NaN      NaN      NaN  NaN        NaN        NaN   \n",
      "4      307.000000        NaN      NaN      NaN  NaN        NaN        NaN   \n",
      "\n",
      "   price  \n",
      "0    NaN  \n",
      "1    NaN  \n",
      "2    NaN  \n",
      "3    NaN  \n",
      "4    NaN  \n"
     ]
    }
   ],
   "source": [
    "# Load data\n",
    "df = pd.read_csv('data/raw/senior_ds_test.csv')\n",
    "\n",
    "# Display basic information\n",
    "print(\"Dataset Shape:\", df.shape)\n",
    "print(\"\\nColumns:\", df.columns.tolist())\n",
    "print(\"\\nData Types:\\n\", df.dtypes)\n",
    "print(\"\\nSample Data:\\n\", df.head())"
   ]
  },
  {
   "cell_type": "markdown",
   "metadata": {},
   "source": [
    "## 2. Missing Values Analysis"
   ]
  },
  {
   "cell_type": "code",
   "execution_count": 3,
   "metadata": {},
   "outputs": [
    {
     "name": "stdout",
     "output_type": "stream",
     "text": [
      "Missing Values Count:\n",
      "\n",
      "Unnamed: 0          0\n",
      "year                0\n",
      "week                0\n",
      "windspeed           0\n",
      "temp                0\n",
      "cloudcover          0\n",
      "precip              0\n",
      "solarradiation      0\n",
      "start_date        242\n",
      "end_date          242\n",
      "category          242\n",
      "unit              242\n",
      "price_min         242\n",
      "price_max         242\n",
      "price             242\n",
      "dtype: int64\n"
     ]
    },
    {
     "ename": "NameError",
     "evalue": "name 'plot_missing_values' is not defined",
     "output_type": "error",
     "traceback": [
      "\u001b[31m---------------------------------------------------------------------------\u001b[39m",
      "\u001b[31mNameError\u001b[39m                                 Traceback (most recent call last)",
      "\u001b[36mCell\u001b[39m\u001b[36m \u001b[39m\u001b[32mIn[3]\u001b[39m\u001b[32m, line 6\u001b[39m\n\u001b[32m      3\u001b[39m \u001b[38;5;28mprint\u001b[39m(df.isnull().sum())\n\u001b[32m      5\u001b[39m \u001b[38;5;66;03m# Plot missing values heatmap\u001b[39;00m\n\u001b[32m----> \u001b[39m\u001b[32m6\u001b[39m \u001b[43mplot_missing_values\u001b[49m(df)\n",
      "\u001b[31mNameError\u001b[39m: name 'plot_missing_values' is not defined"
     ]
    }
   ],
   "source": [
    "# Check missing values\n",
    "print(\"Missing Values Count:\\n\")\n",
    "print(df.isnull().sum())\n",
    "\n",
    "# Plot missing values heatmap\n",
    "plot_missing_values(df)"
   ]
  },
  {
   "cell_type": "markdown",
   "metadata": {},
   "source": [
    "## 3. Split Train/Test Before Analysis"
   ]
  },
  {
   "cell_type": "code",
   "execution_count": null,
   "metadata": {},
   "outputs": [],
   "source": [
    "# Split data\n",
    "train_df, test_df = split_train_test(df)\n",
    "\n",
    "print(\"Training set shape:\", train_df.shape)\n",
    "print(\"Testing set shape:\", test_df.shape)\n",
    "\n",
    "# Display date ranges\n",
    "print(\"\\nTraining data date range:\")\n",
    "print(f\"Start: {train_df['start_date'].min()}, End: {train_df['start_date'].max()}\")\n",
    "print(\"\\nTesting data date range:\")\n",
    "print(f\"Start: {test_df['start_date'].min()}, End: {test_df['start_date'].max()}\")"
   ]
  },
  {
   "cell_type": "markdown",
   "metadata": {},
   "source": [
    "## 4. Price Analysis"
   ]
  },
  {
   "cell_type": "code",
   "execution_count": null,
   "metadata": {},
   "outputs": [],
   "source": [
    "# Plot price distribution and time series\n",
    "plot_price_distribution(train_df)\n",
    "\n",
    "# Basic statistics\n",
    "print(\"\\nPrice Statistics (Training Set):\")\n",
    "print(train_df['price'].describe())"
   ]
  },
  {
   "cell_type": "markdown",
   "metadata": {},
   "source": [
    "## 5. Weather Features Analysis"
   ]
  },
  {
   "cell_type": "code",
   "execution_count": null,
   "metadata": {},
   "outputs": [],
   "source": [
    "# Plot correlations\n",
    "plot_weather_correlations(train_df)\n",
    "\n",
    "# Weather features statistics\n",
    "weather_cols = ['windspeed', 'temp', 'cloudcover', 'precip', 'solarradiation']\n",
    "print(\"\\nWeather Features Statistics (Training Set):\")\n",
    "print(train_df[weather_cols].describe())"
   ]
  },
  {
   "cell_type": "markdown",
   "metadata": {},
   "source": [
    "## 6. Seasonal Patterns"
   ]
  },
  {
   "cell_type": "code",
   "execution_count": null,
   "metadata": {},
   "outputs": [],
   "source": [
    "# Plot seasonal patterns\n",
    "plot_seasonal_patterns(train_df)\n",
    "\n",
    "# Additional seasonal analysis\n",
    "print(\"\\nAverage Price by Year:\")\n",
    "print(train_df.groupby('year')['price'].mean())"
   ]
  },
  {
   "cell_type": "markdown",
   "metadata": {},
   "source": [
    "## 7. Key Findings and Next Steps\n",
    "\n",
    "1. Missing Values Pattern:\n",
    "   - [To be filled after analysis]\n",
    "\n",
    "2. Price Trends:\n",
    "   - [To be filled after analysis]\n",
    "\n",
    "3. Weather Correlations:\n",
    "   - [To be filled after analysis]\n",
    "\n",
    "4. Seasonal Effects:\n",
    "   - [To be filled after analysis]\n",
    "\n",
    "Next Steps:\n",
    "1. Handle missing values separately for train and test sets\n",
    "2. Feature engineering based on observed patterns\n",
    "3. Model selection considering the seasonal nature of the data"
   ]
  }
 ],
 "metadata": {
  "kernelspec": {
   "display_name": "strawberries-price-prediction-RFzSQChC-py3.12",
   "language": "python",
   "name": "python3"
  },
  "language_info": {
   "codemirror_mode": {
    "name": "ipython",
    "version": 3
   },
   "file_extension": ".py",
   "mimetype": "text/x-python",
   "name": "python",
   "nbconvert_exporter": "python",
   "pygments_lexer": "ipython3",
   "version": "3.12.11"
  }
 },
 "nbformat": 4,
 "nbformat_minor": 4
}
