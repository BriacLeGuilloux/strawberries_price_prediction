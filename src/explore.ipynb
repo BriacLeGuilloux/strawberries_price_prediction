{
 "cells": [
  {
   "cell_type": "markdown",
   "metadata": {},
   "source": [
    "# Strawberry Price Prediction - Exploratory Data Analysis\n",
    "\n",
    "This notebook explores the strawberry price prediction dataset, focusing on:\n",
    "1. Data overview and missing values\n",
    "2. Price distribution and trends\n",
    "3. Weather features analysis\n",
    "4. Seasonal patterns"
   ]
  },
  {
   "cell_type": "code",
   "execution_count": null,
   "metadata": {},
   "outputs": [],
   "source": [
    "import pandas as pd\n",
    "import numpy as np\n",
    "import matplotlib.pyplot as plt\n",
    "import seaborn as sns\n",
    "from utils import *\n",
    "\n",
    "%matplotlib inline\n",
    "plt.style.use('seaborn')"
   ]
  },
  {
   "cell_type": "markdown",
   "metadata": {},
   "source": [
    "## 1. Load and Examine Data"
   ]
  },
  {
   "cell_type": "code",
   "execution_count": null,
   "metadata": {},
   "outputs": [],
   "source": [
    "# Load data\n",
    "df = load_data('../data/raw/senior_ds_test.csv')\n",
    "\n",
    "# Display basic information\n",
    "print(\"Dataset Shape:\", df.shape)\n",
    "print(\"\\nColumns:\", df.columns.tolist())\n",
    "print(\"\\nData Types:\\n\", df.dtypes)\n",
    "print(\"\\nSample Data:\\n\", df.head())"
   ]
  },
  {
   "cell_type": "markdown",
   "metadata": {},
   "source": [
    "## 2. Missing Values Analysis"
   ]
  },
  {
   "cell_type": "code",
   "execution_count": null,
   "metadata": {},
   "outputs": [],
   "source": [
    "# Check missing values\n",
    "print(\"Missing Values Count:\\n\")\n",
    "print(df.isnull().sum())\n",
    "\n",
    "# Plot missing values heatmap\n",
    "plot_missing_values(df)"
   ]
  },
  {
   "cell_type": "markdown",
   "metadata": {},
   "source": [
    "## 3. Split Train/Test Before Analysis"
   ]
  },
  {
   "cell_type": "code",
   "execution_count": null,
   "metadata": {},
   "outputs": [],
   "source": [
    "# Split data\n",
    "train_df, test_df = split_train_test(df)\n",
    "\n",
    "print(\"Training set shape:\", train_df.shape)\n",
    "print(\"Testing set shape:\", test_df.shape)\n",
    "\n",
    "# Display date ranges\n",
    "print(\"\\nTraining data date range:\")\n",
    "print(f\"Start: {train_df['start_date'].min()}, End: {train_df['start_date'].max()}\")\n",
    "print(\"\\nTesting data date range:\")\n",
    "print(f\"Start: {test_df['start_date'].min()}, End: {test_df['start_date'].max()}\")"
   ]
  },
  {
   "cell_type": "markdown",
   "metadata": {},
   "source": [
    "## 4. Price Analysis"
   ]
  },
  {
   "cell_type": "code",
   "execution_count": null,
   "metadata": {},
   "outputs": [],
   "source": [
    "# Plot price distribution and time series\n",
    "plot_price_distribution(train_df)\n",
    "\n",
    "# Basic statistics\n",
    "print(\"\\nPrice Statistics (Training Set):\")\n",
    "print(train_df['price'].describe())"
   ]
  },
  {
   "cell_type": "markdown",
   "metadata": {},
   "source": [
    "## 5. Weather Features Analysis"
   ]
  },
  {
   "cell_type": "code",
   "execution_count": null,
   "metadata": {},
   "outputs": [],
   "source": [
    "# Plot correlations\n",
    "plot_weather_correlations(train_df)\n",
    "\n",
    "# Weather features statistics\n",
    "weather_cols = ['windspeed', 'temp', 'cloudcover', 'precip', 'solarradiation']\n",
    "print(\"\\nWeather Features Statistics (Training Set):\")\n",
    "print(train_df[weather_cols].describe())"
   ]
  },
  {
   "cell_type": "markdown",
   "metadata": {},
   "source": [
    "## 6. Seasonal Patterns"
   ]
  },
  {
   "cell_type": "code",
   "execution_count": null,
   "metadata": {},
   "outputs": [],
   "source": [
    "# Plot seasonal patterns\n",
    "plot_seasonal_patterns(train_df)\n",
    "\n",
    "# Additional seasonal analysis\n",
    "print(\"\\nAverage Price by Year:\")\n",
    "print(train_df.groupby('year')['price'].mean())"
   ]
  },
  {
   "cell_type": "markdown",
   "metadata": {},
   "source": [
    "## 7. Key Findings and Next Steps\n",
    "\n",
    "1. Missing Values Pattern:\n",
    "   - [To be filled after analysis]\n",
    "\n",
    "2. Price Trends:\n",
    "   - [To be filled after analysis]\n",
    "\n",
    "3. Weather Correlations:\n",
    "   - [To be filled after analysis]\n",
    "\n",
    "4. Seasonal Effects:\n",
    "   - [To be filled after analysis]\n",
    "\n",
    "Next Steps:\n",
    "1. Handle missing values separately for train and test sets\n",
    "2. Feature engineering based on observed patterns\n",
    "3. Model selection considering the seasonal nature of the data"
   ]
  }
 ],
 "metadata": {
  "kernelspec": {
   "display_name": "Python 3",
   "language": "python",
   "name": "python3"
  },
  "language_info": {
   "codemirror_mode": {
    "name": "ipython",
    "version": 3
   },
   "file_extension": ".py",
   "mimetype": "text/x-python",
   "name": "python",
   "nbconvert_exporter": "python",
   "pygments_lexer": "ipython3",
   "version": "3.8.0"
  }
 },
 "nbformat": 4,
 "nbformat_minor": 4
}
